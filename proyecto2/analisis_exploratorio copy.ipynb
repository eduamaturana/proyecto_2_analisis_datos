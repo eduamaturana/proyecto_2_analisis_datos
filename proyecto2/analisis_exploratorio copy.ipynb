{
 "cells": [
  {
   "cell_type": "code",
   "execution_count": 1,
   "metadata": {},
   "outputs": [],
   "source": [
    "import pandas as pd"
   ]
  },
  {
   "cell_type": "code",
   "execution_count": 2,
   "metadata": {},
   "outputs": [],
   "source": [
    "corpus = []\n",
    "target = []\n",
    "edad = []\n",
    "sexo = []\n",
    "severidad = []\n",
    "archivo = open(\"dataset_elpino.csv\", encoding=\"utf-8\")\n",
    "header = archivo.readline().strip().split(\";\")\n",
    "features = []\n",
    "\n",
    "for col in header:\n",
    "    col = col.split(\"-\")[0].strip()\n",
    "    if col.startswith(\"Diag\") or col.startswith(\"Proc\"):\n",
    "        col = col.split(\" \")\n",
    "        col = col[0] + col[1]\n",
    "    features.append(col)\n",
    "\n",
    "for linea in archivo:\n",
    "    row = []\n",
    "    linea = linea.strip().split(\";\")\n",
    "    for i in range(len(linea)):\n",
    "        col = linea[i].split(\"-\")[0].strip()\n",
    "        if i == 67:\n",
    "            grd = col[:5]  \n",
    "            target.append(grd)  \n",
    "        elif i == 66:\n",
    "            sexo.append(1 if col == \"Mujer\" else 0)\n",
    "        elif i == 65:\n",
    "            edad.append(int(col))\n",
    "        else:\n",
    "            row.append(col)\n",
    "    corpus.append(row)\n",
    "\n",
    "archivo.close()\n"
   ]
  },
  {
   "cell_type": "code",
   "execution_count": 3,
   "metadata": {},
   "outputs": [
    {
     "data": {
      "text/plain": [
       "['A41.8',\n",
       " 'B37.6',\n",
       " 'I39.8',\n",
       " 'N10',\n",
       " 'B96.1',\n",
       " 'L89.9',\n",
       " 'L08.9',\n",
       " 'B96.2',\n",
       " 'A41.5',\n",
       " 'J86.9',\n",
       " 'U07.1',\n",
       " 'Y95',\n",
       " 'N18.5',\n",
       " 'E87.1',\n",
       " 'D64.9',\n",
       " 'G82.2',\n",
       " 'N31.9',\n",
       " 'I10',\n",
       " 'K70.4',\n",
       " 'F19.2',\n",
       " 'F10.2',\n",
       " 'E46',\n",
       " 'G40.9',\n",
       " 'L21.9',\n",
       " 'Z93.5',\n",
       " 'Z93.3',\n",
       " 'Z99.2',\n",
       " 'Z91.6',\n",
       " '',\n",
       " '',\n",
       " '',\n",
       " '',\n",
       " '',\n",
       " '',\n",
       " '',\n",
       " '86.28',\n",
       " '34.91',\n",
       " '88.38',\n",
       " '87.41',\n",
       " '88.75',\n",
       " '88.01',\n",
       " '88.43',\n",
       " '88.41',\n",
       " '87.44',\n",
       " '99.29',\n",
       " '99.19',\n",
       " '99.18',\n",
       " '99.21',\n",
       " '99.26',\n",
       " '99.23',\n",
       " '93.94',\n",
       " '89.52',\n",
       " '90.59',\n",
       " '89.65',\n",
       " '39.95',\n",
       " '39.95',\n",
       " '99.04',\n",
       " '90.39',\n",
       " '99.84',\n",
       " '88.72',\n",
       " '90.42',\n",
       " '90.52',\n",
       " '91.39',\n",
       " '91.33',\n",
       " '87.03']"
      ]
     },
     "execution_count": 3,
     "metadata": {},
     "output_type": "execute_result"
    }
   ],
   "source": [
    "corpus[0]"
   ]
  },
  {
   "cell_type": "code",
   "execution_count": 4,
   "metadata": {},
   "outputs": [
    {
     "data": {
      "text/plain": [
       "['Diag01',\n",
       " 'Diag02',\n",
       " 'Diag03',\n",
       " 'Diag04',\n",
       " 'Diag05',\n",
       " 'Diag06',\n",
       " 'Diag07',\n",
       " 'Diag08',\n",
       " 'Diag09',\n",
       " 'Diag10',\n",
       " 'Diag11',\n",
       " 'Diag12',\n",
       " 'Diag13',\n",
       " 'Diag14',\n",
       " 'Diag15',\n",
       " 'Diag16',\n",
       " 'Diag17',\n",
       " 'Diag18',\n",
       " 'Diag19',\n",
       " 'Diag20',\n",
       " 'Diag21',\n",
       " 'Diag22',\n",
       " 'Diag23',\n",
       " 'Diag24',\n",
       " 'Diag25',\n",
       " 'Diag26',\n",
       " 'Diag27',\n",
       " 'Diag28',\n",
       " 'Diag29',\n",
       " 'Diag30',\n",
       " 'Diag31',\n",
       " 'Diag32',\n",
       " 'Diag33',\n",
       " 'Diag34',\n",
       " 'Diag35',\n",
       " 'Proced01',\n",
       " 'Proced02',\n",
       " 'Proced03',\n",
       " 'Proced04',\n",
       " 'Proced05',\n",
       " 'Proced06',\n",
       " 'Proced07',\n",
       " 'Proced08',\n",
       " 'Proced09',\n",
       " 'Proced10',\n",
       " 'Proced11',\n",
       " 'Proced12',\n",
       " 'Proced13',\n",
       " 'Proced14',\n",
       " 'Proced15',\n",
       " 'Proced16',\n",
       " 'Proced17',\n",
       " 'Proced18',\n",
       " 'Proced19',\n",
       " 'Proced20',\n",
       " 'Proced21',\n",
       " 'Proced22',\n",
       " 'Proced23',\n",
       " 'Proced24',\n",
       " 'Proced25',\n",
       " 'Proced26',\n",
       " 'Proced27',\n",
       " 'Proced28',\n",
       " 'Proced29',\n",
       " 'Proced30',\n",
       " 'Edad en años',\n",
       " 'Sexo (Desc)',\n",
       " 'GRD']"
      ]
     },
     "execution_count": 4,
     "metadata": {},
     "output_type": "execute_result"
    }
   ],
   "source": [
    "features"
   ]
  },
  {
   "cell_type": "code",
   "execution_count": 5,
   "metadata": {},
   "outputs": [],
   "source": [
    "df=pd.DataFrame(corpus,columns=features[:-3])\n",
    "df[\"GRD\"]=target"
   ]
  },
  {
   "cell_type": "code",
   "execution_count": 6,
   "metadata": {},
   "outputs": [
    {
     "name": "stdout",
     "output_type": "stream",
     "text": [
      "<class 'pandas.core.frame.DataFrame'>\n",
      "RangeIndex: 14561 entries, 0 to 14560\n",
      "Data columns (total 66 columns):\n",
      " #   Column    Non-Null Count  Dtype \n",
      "---  ------    --------------  ----- \n",
      " 0   Diag01    14561 non-null  object\n",
      " 1   Diag02    14561 non-null  object\n",
      " 2   Diag03    14561 non-null  object\n",
      " 3   Diag04    14561 non-null  object\n",
      " 4   Diag05    14561 non-null  object\n",
      " 5   Diag06    14561 non-null  object\n",
      " 6   Diag07    14561 non-null  object\n",
      " 7   Diag08    14561 non-null  object\n",
      " 8   Diag09    14561 non-null  object\n",
      " 9   Diag10    14561 non-null  object\n",
      " 10  Diag11    14561 non-null  object\n",
      " 11  Diag12    14561 non-null  object\n",
      " 12  Diag13    14561 non-null  object\n",
      " 13  Diag14    14561 non-null  object\n",
      " 14  Diag15    14561 non-null  object\n",
      " 15  Diag16    14561 non-null  object\n",
      " 16  Diag17    14561 non-null  object\n",
      " 17  Diag18    14561 non-null  object\n",
      " 18  Diag19    14561 non-null  object\n",
      " 19  Diag20    14561 non-null  object\n",
      " 20  Diag21    14561 non-null  object\n",
      " 21  Diag22    14561 non-null  object\n",
      " 22  Diag23    14561 non-null  object\n",
      " 23  Diag24    14561 non-null  object\n",
      " 24  Diag25    14561 non-null  object\n",
      " 25  Diag26    14561 non-null  object\n",
      " 26  Diag27    14561 non-null  object\n",
      " 27  Diag28    14561 non-null  object\n",
      " 28  Diag29    14561 non-null  object\n",
      " 29  Diag30    14561 non-null  object\n",
      " 30  Diag31    14561 non-null  object\n",
      " 31  Diag32    14561 non-null  object\n",
      " 32  Diag33    14561 non-null  object\n",
      " 33  Diag34    14561 non-null  object\n",
      " 34  Diag35    14561 non-null  object\n",
      " 35  Proced01  14561 non-null  object\n",
      " 36  Proced02  14561 non-null  object\n",
      " 37  Proced03  14561 non-null  object\n",
      " 38  Proced04  14561 non-null  object\n",
      " 39  Proced05  14561 non-null  object\n",
      " 40  Proced06  14561 non-null  object\n",
      " 41  Proced07  14561 non-null  object\n",
      " 42  Proced08  14561 non-null  object\n",
      " 43  Proced09  14561 non-null  object\n",
      " 44  Proced10  14561 non-null  object\n",
      " 45  Proced11  14561 non-null  object\n",
      " 46  Proced12  14561 non-null  object\n",
      " 47  Proced13  14561 non-null  object\n",
      " 48  Proced14  14561 non-null  object\n",
      " 49  Proced15  14561 non-null  object\n",
      " 50  Proced16  14561 non-null  object\n",
      " 51  Proced17  14561 non-null  object\n",
      " 52  Proced18  14561 non-null  object\n",
      " 53  Proced19  14561 non-null  object\n",
      " 54  Proced20  14561 non-null  object\n",
      " 55  Proced21  14561 non-null  object\n",
      " 56  Proced22  14561 non-null  object\n",
      " 57  Proced23  14561 non-null  object\n",
      " 58  Proced24  14561 non-null  object\n",
      " 59  Proced25  14561 non-null  object\n",
      " 60  Proced26  14561 non-null  object\n",
      " 61  Proced27  14561 non-null  object\n",
      " 62  Proced28  14561 non-null  object\n",
      " 63  Proced29  14561 non-null  object\n",
      " 64  Proced30  14561 non-null  object\n",
      " 65  GRD       14561 non-null  object\n",
      "dtypes: object(66)\n",
      "memory usage: 7.3+ MB\n"
     ]
    }
   ],
   "source": [
    "df.info()"
   ]
  },
  {
   "cell_type": "code",
   "execution_count": 7,
   "metadata": {},
   "outputs": [
    {
     "data": {
      "text/plain": [
       "GRD\n",
       "14610    1220\n",
       "14612     927\n",
       "14613     741\n",
       "07114     501\n",
       "13416     458\n",
       "15817     433\n",
       "11412     357\n",
       "04415     341\n",
       "06120     332\n",
       "06113     326\n",
       "04416     319\n",
       "13120     309\n",
       "05412     298\n",
       "13111     288\n",
       "06418     262\n",
       "04102     254\n",
       "04421     234\n",
       "01414     216\n",
       "04418     209\n",
       "06417     202\n",
       "Name: count, dtype: int64"
      ]
     },
     "execution_count": 7,
     "metadata": {},
     "output_type": "execute_result"
    }
   ],
   "source": [
    "df[\"GRD\"].value_counts()[:20]"
   ]
  },
  {
   "cell_type": "code",
   "execution_count": 8,
   "metadata": {},
   "outputs": [
    {
     "data": {
      "image/png": "[encoded data removed]",
      "text/plain": [
       "<Figure size 640x480 with 1 Axes>"
      ]
     },
     "metadata": {},
     "output_type": "display_data"
    }
   ],
   "source": [
    "df[\"GRD\"].value_counts().plot();"
   ]
  },
  {
   "cell_type": "code",
   "execution_count": 9,
   "metadata": {},
   "outputs": [
    {
     "data": {
      "image/png": "[encoded data removed]",
      "text/plain": [
       "<Figure size 640x480 with 1 Axes>"
      ]
     },
     "metadata": {},
     "output_type": "display_data"
    }
   ],
   "source": [
    "df[\"GRD\"].value_counts()[:20].plot();"
   ]
  },
  {
   "cell_type": "code",
   "execution_count": 10,
   "metadata": {},
   "outputs": [
    {
     "name": "stdout",
     "output_type": "stream",
     "text": [
      "GRD\n",
      "14610    1220\n",
      "14612     927\n",
      "14613     741\n",
      "07114     501\n",
      "13416     458\n",
      "15817     433\n",
      "11412     357\n",
      "04415     341\n",
      "06120     332\n",
      "06113     326\n",
      "04416     319\n",
      "13120     309\n",
      "05412     298\n",
      "13111     288\n",
      "06418     262\n",
      "04102     254\n",
      "04421     234\n",
      "01414     216\n",
      "04418     209\n",
      "06417     202\n",
      "Name: count, dtype: int64\n"
     ]
    }
   ],
   "source": [
    "df[\"GRD\"] = df[\"GRD\"].astype(str).str.slice(0, 5)\n",
    "\n",
    "# Ahora puedes verificar los resultados\n",
    "print(df[\"GRD\"].value_counts()[:20])"
   ]
  },
  {
   "cell_type": "code",
   "execution_count": 11,
   "metadata": {},
   "outputs": [],
   "source": [
    " # Contar las ocurrencias de cada valor en la columna \"GRD\"\n",
    "counts = df[\"GRD\"].value_counts()\n",
    "\n",
    "grd_to_keep = counts[counts > 320].index\n",
    "\n",
    "# Filtrar el DataFrame para mantener solo las filas con los GRD que se repiten 10 veces o más\n",
    "df_filtered = df[df[\"GRD\"].isin(grd_to_keep)]  "
   ]
  },
  {
   "cell_type": "code",
   "execution_count": 12,
   "metadata": {},
   "outputs": [],
   "source": [
    "data=df_filtered"
   ]
  },
  {
   "cell_type": "code",
   "execution_count": 13,
   "metadata": {},
   "outputs": [],
   "source": [
    "features_procedimientos=[]\n",
    "features_diagnosticos=[]\n",
    "for j in range(1,36):\n",
    "    field=\"Diag\"+str(j).zfill(2)\n",
    "    features_diagnosticos.append(field)\n",
    "for j in range(1,31):\n",
    "    field=\"Proced\"+str(j).zfill(2)\n",
    "    features_procedimientos.append(field)"
   ]
  },
  {
   "cell_type": "code",
   "execution_count": 14,
   "metadata": {},
   "outputs": [
    {
     "name": "stdout",
     "output_type": "stream",
     "text": [
      "Diagnósticos:  1553\n",
      "Procedimientos:  426\n",
      "Vocabulario:  1980\n"
     ]
    }
   ],
   "source": [
    "procedimientos={}\n",
    "diagnosticos={}\n",
    "for i, row in data.iterrows():\n",
    "    for j in range(1,36):\n",
    "        field=\"Diag\"+str(j).zfill(2)\n",
    "        if row[field] not in diagnosticos:\n",
    "            diagnosticos[row[field]]=1\n",
    "        else:\n",
    "            diagnosticos[row[field]]+=1\n",
    "    for j in range(1,31):\n",
    "        field=\"Proced\"+str(j).zfill(2)\n",
    "        if row[field] not in procedimientos:\n",
    "            procedimientos[row[field]]=1\n",
    "        else:\n",
    "            procedimientos[row[field]]+=1\n",
    "token_diagnosticos=list(diagnosticos.keys())\n",
    "token_procedimientos=list(procedimientos.keys())\n",
    "vocabulario=len(token_diagnosticos)+len(token_procedimientos)+1\n",
    "print(\"Diagnósticos: \",len(token_diagnosticos))\n",
    "print(\"Procedimientos: \",len(token_procedimientos))\n",
    "print(\"Vocabulario: \",vocabulario)"
   ]
  },
  {
   "cell_type": "code",
   "execution_count": 15,
   "metadata": {},
   "outputs": [],
   "source": [
    "token_rows=[]\n",
    "for i, row in data.iterrows():\n",
    "    token_row=[]\n",
    "    for j in range(1,36):\n",
    "        field=\"Diag\"+str(j).zfill(2)\n",
    "        token_row.append(1+token_diagnosticos.index(row[field]))\n",
    "    for j in range(1,31):\n",
    "        field=\"Proced\"+str(j).zfill(2)\n",
    "        token_row.append(1+1553+token_procedimientos.index(row[field]))\n",
    "    token_rows.append(token_row)"
   ]
  },
  {
   "cell_type": "code",
   "execution_count": 16,
   "metadata": {},
   "outputs": [],
   "source": [
    "import tensorflow as tf\n",
    "from keras.layers import Attention, Input, Dense, Embedding, Flatten, LSTM\n",
    "from keras.models import Model,Sequential\n",
    "from sklearn.preprocessing import OneHotEncoder,LabelEncoder\n",
    "from sklearn.model_selection import train_test_split\n",
    "from datetime import datetime\n",
    "import numpy as np\n",
    "from keras.utils import pad_sequences\n",
    "\n",
    "X=pad_sequences(token_rows)"
   ]
  },
  {
   "cell_type": "code",
   "execution_count": 17,
   "metadata": {},
   "outputs": [
    {
     "data": {
      "text/plain": [
       "(5636, 65)"
      ]
     },
     "execution_count": 17,
     "metadata": {},
     "output_type": "execute_result"
    }
   ],
   "source": [
    "X.shape"
   ]
  },
  {
   "cell_type": "code",
   "execution_count": 18,
   "metadata": {},
   "outputs": [
    {
     "name": "stdout",
     "output_type": "stream",
     "text": [
      "(5636, 10)\n"
     ]
    }
   ],
   "source": [
    "Y=data[\"GRD\"].apply(lambda x: int(x)).to_numpy()\n",
    "encoder=LabelEncoder()\n",
    "encoder.fit(Y)\n",
    "Y=encoder.transform(Y)\n",
    "Y=np.asarray(Y)\n",
    "Y=Y.reshape(-1,1)\n",
    "encoder=OneHotEncoder()\n",
    "encoder.fit(Y)\n",
    "Y=encoder.transform(Y).todense()\n",
    "print(Y.shape)"
   ]
  },
  {
   "cell_type": "code",
   "execution_count": 19,
   "metadata": {},
   "outputs": [],
   "source": [
    "X = np.array(token_rows)  # Asegúrate de que token_rows contenga los datos correctos\n",
    "\n",
    "x_train, x_val, y_train, y_val = train_test_split(X, Y, random_state=0)\n"
   ]
  },
  {
   "cell_type": "code",
   "execution_count": 20,
   "metadata": {},
   "outputs": [
    {
     "name": "stdout",
     "output_type": "stream",
     "text": [
      "(4227, 65) (1409, 65)\n"
     ]
    }
   ],
   "source": [
    "print(x_train.shape, x_val.shape)  # Verifica las formas de los conjuntos de datos\n"
   ]
  },
  {
   "cell_type": "code",
   "execution_count": 21,
   "metadata": {},
   "outputs": [
    {
     "data": {
      "text/html": [
       "<pre style=\"white-space:pre;overflow-x:auto;line-height:normal;font-family:Menlo,'DejaVu Sans Mono',consolas,'Courier New',monospace\"><span style=\"font-weight: bold\">Model: \"sequential\"</span>\n",
       "</pre>\n"
      ],
      "text/plain": [
       "\u001b[1mModel: \"sequential\"\u001b[0m\n"
      ]
     },
     "metadata": {},
     "output_type": "display_data"
    },
    {
     "data": {
      "text/html": [
       "<pre style=\"white-space:pre;overflow-x:auto;line-height:normal;font-family:Menlo,'DejaVu Sans Mono',consolas,'Courier New',monospace\">┏━━━━━━━━━━━━━━━━━━━━━━━━━━━━━━━━━┳━━━━━━━━━━━━━━━━━━━━━━━━┳━━━━━━━━━━━━━━━┓\n",
       "┃<span style=\"font-weight: bold\"> Layer (type)                    </span>┃<span style=\"font-weight: bold\"> Output Shape           </span>┃<span style=\"font-weight: bold\">       Param # </span>┃\n",
       "┡━━━━━━━━━━━━━━━━━━━━━━━━━━━━━━━━━╇━━━━━━━━━━━━━━━━━━━━━━━━╇━━━━━━━━━━━━━━━┩\n",
       "│ embedding (<span style=\"color: #0087ff; text-decoration-color: #0087ff\">Embedding</span>)           │ ?                      │   <span style=\"color: #00af00; text-decoration-color: #00af00\">0</span> (unbuilt) │\n",
       "├─────────────────────────────────┼────────────────────────┼───────────────┤\n",
       "│ lstm (<span style=\"color: #0087ff; text-decoration-color: #0087ff\">LSTM</span>)                     │ ?                      │   <span style=\"color: #00af00; text-decoration-color: #00af00\">0</span> (unbuilt) │\n",
       "├─────────────────────────────────┼────────────────────────┼───────────────┤\n",
       "│ dense (<span style=\"color: #0087ff; text-decoration-color: #0087ff\">Dense</span>)                   │ ?                      │   <span style=\"color: #00af00; text-decoration-color: #00af00\">0</span> (unbuilt) │\n",
       "└─────────────────────────────────┴────────────────────────┴───────────────┘\n",
       "</pre>\n"
      ],
      "text/plain": [
       "┏━━━━━━━━━━━━━━━━━━━━━━━━━━━━━━━━━┳━━━━━━━━━━━━━━━━━━━━━━━━┳━━━━━━━━━━━━━━━┓\n",
       "┃\u001b[1m \u001b[0m\u001b[1mLayer (type)                   \u001b[0m\u001b[1m \u001b[0m┃\u001b[1m \u001b[0m\u001b[1mOutput Shape          \u001b[0m\u001b[1m \u001b[0m┃\u001b[1m \u001b[0m\u001b[1m      Param #\u001b[0m\u001b[1m \u001b[0m┃\n",
       "┡━━━━━━━━━━━━━━━━━━━━━━━━━━━━━━━━━╇━━━━━━━━━━━━━━━━━━━━━━━━╇━━━━━━━━━━━━━━━┩\n",
       "│ embedding (\u001b[38;5;33mEmbedding\u001b[0m)           │ ?                      │   \u001b[38;5;34m0\u001b[0m (unbuilt) │\n",
       "├─────────────────────────────────┼────────────────────────┼───────────────┤\n",
       "│ lstm (\u001b[38;5;33mLSTM\u001b[0m)                     │ ?                      │   \u001b[38;5;34m0\u001b[0m (unbuilt) │\n",
       "├─────────────────────────────────┼────────────────────────┼───────────────┤\n",
       "│ dense (\u001b[38;5;33mDense\u001b[0m)                   │ ?                      │   \u001b[38;5;34m0\u001b[0m (unbuilt) │\n",
       "└─────────────────────────────────┴────────────────────────┴───────────────┘\n"
      ]
     },
     "metadata": {},
     "output_type": "display_data"
    },
    {
     "data": {
      "text/html": [
       "<pre style=\"white-space:pre;overflow-x:auto;line-height:normal;font-family:Menlo,'DejaVu Sans Mono',consolas,'Courier New',monospace\"><span style=\"font-weight: bold\"> Total params: </span><span style=\"color: #00af00; text-decoration-color: #00af00\">0</span> (0.00 B)\n",
       "</pre>\n"
      ],
      "text/plain": [
       "\u001b[1m Total params: \u001b[0m\u001b[38;5;34m0\u001b[0m (0.00 B)\n"
      ]
     },
     "metadata": {},
     "output_type": "display_data"
    },
    {
     "data": {
      "text/html": [
       "<pre style=\"white-space:pre;overflow-x:auto;line-height:normal;font-family:Menlo,'DejaVu Sans Mono',consolas,'Courier New',monospace\"><span style=\"font-weight: bold\"> Trainable params: </span><span style=\"color: #00af00; text-decoration-color: #00af00\">0</span> (0.00 B)\n",
       "</pre>\n"
      ],
      "text/plain": [
       "\u001b[1m Trainable params: \u001b[0m\u001b[38;5;34m0\u001b[0m (0.00 B)\n"
      ]
     },
     "metadata": {},
     "output_type": "display_data"
    },
    {
     "data": {
      "text/html": [
       "<pre style=\"white-space:pre;overflow-x:auto;line-height:normal;font-family:Menlo,'DejaVu Sans Mono',consolas,'Courier New',monospace\"><span style=\"font-weight: bold\"> Non-trainable params: </span><span style=\"color: #00af00; text-decoration-color: #00af00\">0</span> (0.00 B)\n",
       "</pre>\n"
      ],
      "text/plain": [
       "\u001b[1m Non-trainable params: \u001b[0m\u001b[38;5;34m0\u001b[0m (0.00 B)\n"
      ]
     },
     "metadata": {},
     "output_type": "display_data"
    }
   ],
   "source": [
    "modelo_emb=Sequential()\n",
    "modelo_emb.add(Embedding(input_dim=vocabulario,output_dim=64))\n",
    "modelo_emb.add(LSTM(32))\n",
    "modelo_emb.add(Dense(10,activation=\"softmax\"))\n",
    "modelo_emb.compile(optimizer=\"Adam\",loss=\"categorical_crossentropy\",metrics=[\"acc\"])\n",
    "modelo_emb.summary()"
   ]
  },
  {
   "cell_type": "code",
   "execution_count": 22,
   "metadata": {},
   "outputs": [
    {
     "name": "stdout",
     "output_type": "stream",
     "text": [
      "Epoch 1/32\n",
      "133/133 - 5s - 34ms/step - acc: 0.2617 - loss: 1.8609 - val_acc: 0.3123 - val_loss: 1.6034\n",
      "Epoch 2/32\n",
      "133/133 - 2s - 14ms/step - acc: 0.3627 - loss: 1.5149 - val_acc: 0.4166 - val_loss: 1.3658\n",
      "Epoch 3/32\n",
      "133/133 - 2s - 14ms/step - acc: 0.4190 - loss: 1.4257 - val_acc: 0.3953 - val_loss: 1.4537\n",
      "Epoch 4/32\n",
      "133/133 - 2s - 15ms/step - acc: 0.4616 - loss: 1.3454 - val_acc: 0.6089 - val_loss: 1.0649\n",
      "Epoch 5/32\n",
      "133/133 - 2s - 14ms/step - acc: 0.6347 - loss: 1.0112 - val_acc: 0.6664 - val_loss: 0.9202\n",
      "Epoch 6/32\n",
      "133/133 - 2s - 14ms/step - acc: 0.6683 - loss: 0.8618 - val_acc: 0.6721 - val_loss: 0.8909\n",
      "Epoch 7/32\n",
      "133/133 - 2s - 14ms/step - acc: 0.6778 - loss: 0.8046 - val_acc: 0.6757 - val_loss: 0.7981\n",
      "Epoch 8/32\n",
      "133/133 - 2s - 14ms/step - acc: 0.6969 - loss: 0.7490 - val_acc: 0.6977 - val_loss: 0.7369\n",
      "Epoch 9/32\n",
      "133/133 - 2s - 14ms/step - acc: 0.7064 - loss: 0.7360 - val_acc: 0.7225 - val_loss: 0.7299\n",
      "Epoch 10/32\n",
      "133/133 - 2s - 14ms/step - acc: 0.7582 - loss: 0.6579 - val_acc: 0.7587 - val_loss: 0.6567\n",
      "Epoch 11/32\n",
      "133/133 - 2s - 14ms/step - acc: 0.7812 - loss: 0.6079 - val_acc: 0.7658 - val_loss: 0.6133\n",
      "Epoch 12/32\n",
      "133/133 - 2s - 13ms/step - acc: 0.7982 - loss: 0.5457 - val_acc: 0.7871 - val_loss: 0.5506\n",
      "Epoch 13/32\n",
      "133/133 - 2s - 13ms/step - acc: 0.8226 - loss: 0.4746 - val_acc: 0.8162 - val_loss: 0.4859\n",
      "Epoch 14/32\n",
      "133/133 - 2s - 13ms/step - acc: 0.8578 - loss: 0.4178 - val_acc: 0.8623 - val_loss: 0.4148\n",
      "Epoch 15/32\n",
      "133/133 - 2s - 13ms/step - acc: 0.8810 - loss: 0.3693 - val_acc: 0.7587 - val_loss: 0.7259\n",
      "Epoch 16/32\n",
      "133/133 - 2s - 13ms/step - acc: 0.7658 - loss: 0.6702 - val_acc: 0.7651 - val_loss: 0.7382\n",
      "Epoch 17/32\n",
      "133/133 - 2s - 13ms/step - acc: 0.8630 - loss: 0.4209 - val_acc: 0.8978 - val_loss: 0.3321\n",
      "Epoch 18/32\n",
      "133/133 - 2s - 13ms/step - acc: 0.9276 - loss: 0.2545 - val_acc: 0.8793 - val_loss: 0.3302\n",
      "Epoch 19/32\n",
      "133/133 - 2s - 13ms/step - acc: 0.9323 - loss: 0.2290 - val_acc: 0.9155 - val_loss: 0.2866\n",
      "Epoch 20/32\n",
      "133/133 - 2s - 13ms/step - acc: 0.9248 - loss: 0.2345 - val_acc: 0.9092 - val_loss: 0.3218\n",
      "Epoch 21/32\n",
      "133/133 - 2s - 14ms/step - acc: 0.9170 - loss: 0.2925 - val_acc: 0.9092 - val_loss: 0.2969\n",
      "Epoch 22/32\n",
      "133/133 - 2s - 13ms/step - acc: 0.9295 - loss: 0.2362 - val_acc: 0.9148 - val_loss: 0.2801\n",
      "Epoch 23/32\n",
      "133/133 - 2s - 13ms/step - acc: 0.9148 - loss: 0.2701 - val_acc: 0.7921 - val_loss: 0.6154\n"
     ]
    }
   ],
   "source": [
    "tag = \"emb\" + datetime.now().strftime(\"%Y%m%d-%H%M%S\")\n",
    "log_dir = \"logs/fit/\" + tag\n",
    "tensorboard_callback = tf.keras.callbacks.TensorBoard(log_dir=log_dir, histogram_freq=1)\n",
    "earlystopping_callback = tf.keras.callbacks.EarlyStopping(monitor=\"val_acc\", patience=4, restore_best_weights=True)\n",
    "\n",
    "spam_emb = modelo_emb.fit(x_train, y_train, validation_data=(x_val, y_val), batch_size=32, epochs=32, verbose=2,\n",
    "                          callbacks=[tensorboard_callback, earlystopping_callback])"
   ]
  },
  {
   "cell_type": "code",
   "execution_count": 23,
   "metadata": {},
   "outputs": [],
   "source": [
    "modelo_emb.save('modelo{0}.keras'.format(tag))"
   ]
  },
  {
   "cell_type": "code",
   "execution_count": 24,
   "metadata": {},
   "outputs": [],
   "source": [
    "modelo_emb=tf.keras.models.load_model(\"modeloemb20250126-185923.keras\")"
   ]
  },
  {
   "cell_type": "code",
   "execution_count": 25,
   "metadata": {},
   "outputs": [
    {
     "name": "stdout",
     "output_type": "stream",
     "text": [
      "\u001b[1m45/45\u001b[0m \u001b[32m━━━━━━━━━━━━━━━━━━━━\u001b[0m\u001b[37m\u001b[0m \u001b[1m0s\u001b[0m 6ms/step\n"
     ]
    }
   ],
   "source": [
    "y_pred_probs=modelo_emb.predict(x_val)"
   ]
  },
  {
   "cell_type": "code",
   "execution_count": 26,
   "metadata": {},
   "outputs": [],
   "source": [
    "from sklearn.metrics import confusion_matrix\n",
    "from sklearn.metrics import precision_score\n",
    "from sklearn.metrics import accuracy_score\n",
    "from sklearn.metrics import recall_score\n",
    "from sklearn.metrics import f1_score\n",
    "from sklearn.metrics import roc_auc_score\n",
    "from sklearn.metrics import roc_curve\n",
    "from sklearn.metrics import precision_recall_curve\n",
    "from sklearn.metrics import auc\n",
    "import matplotlib.pyplot as plt\n",
    "import seaborn as sns\n",
    "from sklearn.preprocessing import label_binarize"
   ]
  },
  {
   "cell_type": "code",
   "execution_count": 27,
   "metadata": {},
   "outputs": [],
   "source": [
    "y_pred=np.argmax(y_pred_probs,axis=1)"
   ]
  },
  {
   "cell_type": "code",
   "execution_count": 28,
   "metadata": {},
   "outputs": [
    {
     "data": {
      "text/plain": [
       "array([8, 3, 7, ..., 4, 0, 6])"
      ]
     },
     "execution_count": 28,
     "metadata": {},
     "output_type": "execute_result"
    }
   ],
   "source": [
    "y_pred"
   ]
  },
  {
   "cell_type": "code",
   "execution_count": 29,
   "metadata": {},
   "outputs": [
    {
     "data": {
      "image/png": "[encoded data removed]",
      "text/plain": [
       "<Figure size 2000x400 with 5 Axes>"
      ]
     },
     "metadata": {},
     "output_type": "display_data"
    }
   ],
   "source": [
    "fig, axes = plt.subplots(1,4)\n",
    "fig.set_size_inches(20, 4)\n",
    "\n",
    "y_val1d=np.squeeze(np.asarray(np.argmax(y_val,axis=1)))\n",
    "\n",
    "matriz = confusion_matrix(y_val1d, \n",
    "                          y_pred)    \n",
    "ax=axes[0]\n",
    "sns.heatmap(matriz, annot=True, ax = ax, cmap=\"Blues\",fmt=\"d\");\n",
    "ax.set_title(\"Rec=\"+str(round(recall_score(y_val1d,y_pred,average=\"macro\"),2))+\n",
    "        \" Acc=\"+str(round(accuracy_score(y_val1d,y_pred),2))+\n",
    "        \" F1=\"+str(round(f1_score(y_val1d, y_pred,average=\"macro\"),2))+\n",
    "        \" Pre=\"+str(round(precision_score(y_val1d, y_pred,average=\"macro\"),2)));\n",
    "axes[0].set_xlabel('Predicted');\n",
    "axes[0].set_ylabel('Real');\n",
    "\n",
    "fpr = {}\n",
    "tpr = {}\n",
    "roc_auc = {}\n",
    "for i in range(3):\n",
    "    fpr[i], tpr[i], _ = roc_curve(np.asarray(y_val[:, i]), np.asarray(y_pred_probs[:, i]))\n",
    "    roc_auc[i] = auc(fpr[i], tpr[i])\n",
    "\n",
    "for i in range(3):\n",
    "    axes[i+1].plot(fpr[i], tpr[i])\n",
    "    axes[i+1].plot([0, 1], [0, 1], 'k--')\n",
    "    axes[i+1].set_xlabel('FPR')\n",
    "    axes[i+1].set_ylabel('TPR')\n",
    "    axes[i+1].set_title('ROC Curve Class {0}, AUC={1}'.format(i,round(roc_auc[i],2)))"
   ]
  },
  {
   "cell_type": "code",
   "execution_count": 30,
   "metadata": {},
   "outputs": [],
   "source": [
    "y_pred1d=label_binarize(np.argmax(y_pred_probs,axis=1),classes=[0,1,2])"
   ]
  },
  {
   "cell_type": "code",
   "execution_count": 31,
   "metadata": {},
   "outputs": [
    {
     "name": "stdout",
     "output_type": "stream",
     "text": [
      "ACC= 0.98 PRE= 0.89 REC= 0.72\n",
      "ACC= 0.99 PRE= 0.88 REC= 0.98\n",
      "ACC= 0.99 PRE= 0.96 REC= 0.84\n"
     ]
    }
   ],
   "source": [
    "for i in range(3):\n",
    "    print(\"ACC=\",round(accuracy_score(np.squeeze(np.asarray(y_val[:,i])), y_pred1d[:,i]),2),\n",
    "        \"PRE=\",round(precision_score(np.squeeze(np.asarray(y_val[:,i])), y_pred1d[:,i]),2),\n",
    "        \"REC=\",round(recall_score(np.squeeze(np.asarray(y_val[:,i])), y_pred1d[:,i]),2))"
   ]
  },
  {
   "cell_type": "code",
   "execution_count": 32,
   "metadata": {},
   "outputs": [
    {
     "data": {
      "text/plain": [
       "array([[[1326,    7],\n",
       "        [  21,   55]],\n",
       "\n",
       "       [[1316,   11],\n",
       "        [   2,   80]],\n",
       "\n",
       "       [[1324,    3],\n",
       "        [  13,   69]]])"
      ]
     },
     "execution_count": 32,
     "metadata": {},
     "output_type": "execute_result"
    }
   ],
   "source": [
    "from sklearn.metrics import multilabel_confusion_matrix\n",
    "multilabel_confusion_matrix(y_val1d,y_pred,labels=[0,1,2])"
   ]
  },
  {
   "cell_type": "code",
   "execution_count": 33,
   "metadata": {},
   "outputs": [
    {
     "data": {
      "image/png": "[encoded data removed]",
      "text/plain": [
       "<Figure size 1500x400 with 3 Axes>"
      ]
     },
     "metadata": {},
     "output_type": "display_data"
    }
   ],
   "source": [
    "fig, axes = plt.subplots(1,3)\n",
    "fig.set_size_inches(15, 4)\n",
    "\n",
    "for i in range(3):\n",
    "    lr_precision, lr_recall, thresholds_pr = precision_recall_curve(np.asarray(y_val[:,i]), np.asarray(y_pred_probs[:,i]))\n",
    "    filtro=np.squeeze(np.asarray(y_val[:,1]==1))\n",
    "    no_skill = len(y_val[filtro]) / len(y_val)\n",
    "    p=i\n",
    "    axes[p].plot(lr_recall, lr_precision, marker='.', label='PR-RC curve (area = %0.2f)' % auc(lr_recall,lr_precision))\n",
    "    axes[p].plot([0, 1], [no_skill, no_skill], linestyle='--', label='No Skill')\n",
    "    axes[p].set_xlabel('Recall')\n",
    "    axes[p].set_ylabel('Precision')\n",
    "    axes[p].set_title('PR-RC Curve %i' % i)\n",
    "    axes[p].legend();"
   ]
  },
  {
   "cell_type": "code",
   "execution_count": 34,
   "metadata": {},
   "outputs": [],
   "source": [
    "test=pd.DataFrame(x_val,columns=features_diagnosticos+features_procedimientos)\n",
    "test[\"y\"]=np.argmax(y_val,axis=1)\n",
    "test[\"yp\"]=np.argmax(y_pred_probs,axis=1)"
   ]
  },
  {
   "cell_type": "code",
   "execution_count": 35,
   "metadata": {},
   "outputs": [
    {
     "data": {
      "text/html": [
       "<div>\n",
       "<style scoped>\n",
       "    .dataframe tbody tr th:only-of-type {\n",
       "        vertical-align: middle;\n",
       "    }\n",
       "\n",
       "    .dataframe tbody tr th {\n",
       "        vertical-align: top;\n",
       "    }\n",
       "\n",
       "    .dataframe thead th {\n",
       "        text-align: right;\n",
       "    }\n",
       "</style>\n",
       "<table border=\"1\" class=\"dataframe\">\n",
       "  <thead>\n",
       "    <tr style=\"text-align: right;\">\n",
       "      <th></th>\n",
       "      <th>Diag01</th>\n",
       "      <th>Diag02</th>\n",
       "      <th>Diag03</th>\n",
       "      <th>Diag04</th>\n",
       "      <th>Diag05</th>\n",
       "      <th>Diag06</th>\n",
       "      <th>Diag07</th>\n",
       "      <th>Diag08</th>\n",
       "      <th>Diag09</th>\n",
       "      <th>Diag10</th>\n",
       "      <th>...</th>\n",
       "      <th>Proced23</th>\n",
       "      <th>Proced24</th>\n",
       "      <th>Proced25</th>\n",
       "      <th>Proced26</th>\n",
       "      <th>Proced27</th>\n",
       "      <th>Proced28</th>\n",
       "      <th>Proced29</th>\n",
       "      <th>Proced30</th>\n",
       "      <th>y</th>\n",
       "      <th>yp</th>\n",
       "    </tr>\n",
       "  </thead>\n",
       "  <tbody>\n",
       "    <tr>\n",
       "      <th>922</th>\n",
       "      <td>213</td>\n",
       "      <td>51</td>\n",
       "      <td>22</td>\n",
       "      <td>22</td>\n",
       "      <td>22</td>\n",
       "      <td>22</td>\n",
       "      <td>22</td>\n",
       "      <td>22</td>\n",
       "      <td>22</td>\n",
       "      <td>22</td>\n",
       "      <td>...</td>\n",
       "      <td>1579</td>\n",
       "      <td>1579</td>\n",
       "      <td>1579</td>\n",
       "      <td>1579</td>\n",
       "      <td>1579</td>\n",
       "      <td>1579</td>\n",
       "      <td>1579</td>\n",
       "      <td>1579</td>\n",
       "      <td>1</td>\n",
       "      <td>2</td>\n",
       "    </tr>\n",
       "  </tbody>\n",
       "</table>\n",
       "<p>1 rows × 67 columns</p>\n",
       "</div>"
      ],
      "text/plain": [
       "     Diag01  Diag02  Diag03  Diag04  Diag05  Diag06  Diag07  Diag08  Diag09  \\\n",
       "922     213      51      22      22      22      22      22      22      22   \n",
       "\n",
       "     Diag10  ...  Proced23  Proced24  Proced25  Proced26  Proced27  Proced28  \\\n",
       "922      22  ...      1579      1579      1579      1579      1579      1579   \n",
       "\n",
       "     Proced29  Proced30  y  yp  \n",
       "922      1579      1579  1   2  \n",
       "\n",
       "[1 rows x 67 columns]"
      ]
     },
     "execution_count": 35,
     "metadata": {},
     "output_type": "execute_result"
    }
   ],
   "source": [
    "test[(test[\"y\"]==1) & (test[\"yp\"]==2)]"
   ]
  },
  {
   "cell_type": "code",
   "execution_count": 36,
   "metadata": {},
   "outputs": [
    {
     "name": "stderr",
     "output_type": "stream",
     "text": [
      "C:\\Users\\fliza\\AppData\\Local\\Packages\\PythonSoftwareFoundation.Python.3.10_qbz5n2kfra8p0\\LocalCache\\local-packages\\Python310\\site-packages\\tqdm\\auto.py:21: TqdmWarning: IProgress not found. Please update jupyter and ipywidgets. See https://ipywidgets.readthedocs.io/en/stable/user_install.html\n",
      "  from .autonotebook import tqdm as notebook_tqdm\n"
     ]
    }
   ],
   "source": [
    "import shap\n"
   ]
  },
  {
   "cell_type": "code",
   "execution_count": 37,
   "metadata": {},
   "outputs": [
    {
     "name": "stdout",
     "output_type": "stream",
     "text": [
      "\u001b[1m2/2\u001b[0m \u001b[32m━━━━━━━━━━━━━━━━━━━━\u001b[0m\u001b[37m\u001b[0m \u001b[1m0s\u001b[0m 19ms/step\n"
     ]
    }
   ],
   "source": [
    "explainer = shap.KernelExplainer(modelo_emb.predict, x_val[:34])"
   ]
  },
  {
   "cell_type": "code",
   "execution_count": 38,
   "metadata": {},
   "outputs": [
    {
     "name": "stderr",
     "output_type": "stream",
     "text": [
      "  0%|          | 0/34 [00:00<?, ?it/s]"
     ]
    },
    {
     "name": "stdout",
     "output_type": "stream",
     "text": [
      "\u001b[1m1/1\u001b[0m \u001b[32m━━━━━━━━━━━━━━━━━━━━\u001b[0m\u001b[37m\u001b[0m \u001b[1m0s\u001b[0m 32ms/step\n",
      "\u001b[1m2278/2278\u001b[0m \u001b[32m━━━━━━━━━━━━━━━━━━━━\u001b[0m\u001b[37m\u001b[0m \u001b[1m8s\u001b[0m 3ms/step\n"
     ]
    },
    {
     "name": "stderr",
     "output_type": "stream",
     "text": [
      "  3%|▎         | 1/34 [00:08<04:49,  8.76s/it]"
     ]
    },
    {
     "name": "stdout",
     "output_type": "stream",
     "text": [
      "\u001b[1m1/1\u001b[0m \u001b[32m━━━━━━━━━━━━━━━━━━━━\u001b[0m\u001b[37m\u001b[0m \u001b[1m0s\u001b[0m 32ms/step\n",
      "\u001b[1m2278/2278\u001b[0m \u001b[32m━━━━━━━━━━━━━━━━━━━━\u001b[0m\u001b[37m\u001b[0m \u001b[1m7s\u001b[0m 3ms/step\n"
     ]
    },
    {
     "name": "stderr",
     "output_type": "stream",
     "text": [
      "  6%|▌         | 2/34 [00:17<04:35,  8.61s/it]"
     ]
    },
    {
     "name": "stdout",
     "output_type": "stream",
     "text": [
      "\u001b[1m1/1\u001b[0m \u001b[32m━━━━━━━━━━━━━━━━━━━━\u001b[0m\u001b[37m\u001b[0m \u001b[1m0s\u001b[0m 32ms/step\n",
      "\u001b[1m2278/2278\u001b[0m \u001b[32m━━━━━━━━━━━━━━━━━━━━\u001b[0m\u001b[37m\u001b[0m \u001b[1m8s\u001b[0m 3ms/step\n"
     ]
    },
    {
     "name": "stderr",
     "output_type": "stream",
     "text": [
      "  9%|▉         | 3/34 [00:25<04:26,  8.61s/it]"
     ]
    },
    {
     "name": "stdout",
     "output_type": "stream",
     "text": [
      "\u001b[1m1/1\u001b[0m \u001b[32m━━━━━━━━━━━━━━━━━━━━\u001b[0m\u001b[37m\u001b[0m \u001b[1m0s\u001b[0m 31ms/step\n",
      "\u001b[1m2278/2278\u001b[0m \u001b[32m━━━━━━━━━━━━━━━━━━━━\u001b[0m\u001b[37m\u001b[0m \u001b[1m7s\u001b[0m 3ms/step\n"
     ]
    },
    {
     "name": "stderr",
     "output_type": "stream",
     "text": [
      " 12%|█▏        | 4/34 [00:34<04:17,  8.58s/it]"
     ]
    },
    {
     "name": "stdout",
     "output_type": "stream",
     "text": [
      "\u001b[1m1/1\u001b[0m \u001b[32m━━━━━━━━━━━━━━━━━━━━\u001b[0m\u001b[37m\u001b[0m \u001b[1m0s\u001b[0m 32ms/step\n",
      "\u001b[1m2278/2278\u001b[0m \u001b[32m━━━━━━━━━━━━━━━━━━━━\u001b[0m\u001b[37m\u001b[0m \u001b[1m7s\u001b[0m 3ms/step\n"
     ]
    },
    {
     "name": "stderr",
     "output_type": "stream",
     "text": [
      " 15%|█▍        | 5/34 [00:42<04:08,  8.57s/it]"
     ]
    },
    {
     "name": "stdout",
     "output_type": "stream",
     "text": [
      "\u001b[1m1/1\u001b[0m \u001b[32m━━━━━━━━━━━━━━━━━━━━\u001b[0m\u001b[37m\u001b[0m \u001b[1m0s\u001b[0m 34ms/step\n",
      "\u001b[1m2278/2278\u001b[0m \u001b[32m━━━━━━━━━━━━━━━━━━━━\u001b[0m\u001b[37m\u001b[0m \u001b[1m8s\u001b[0m 3ms/step\n"
     ]
    },
    {
     "name": "stderr",
     "output_type": "stream",
     "text": [
      " 18%|█▊        | 6/34 [00:51<04:00,  8.60s/it]"
     ]
    },
    {
     "name": "stdout",
     "output_type": "stream",
     "text": [
      "\u001b[1m1/1\u001b[0m \u001b[32m━━━━━━━━━━━━━━━━━━━━\u001b[0m\u001b[37m\u001b[0m \u001b[1m0s\u001b[0m 35ms/step\n",
      "\u001b[1m2278/2278\u001b[0m \u001b[32m━━━━━━━━━━━━━━━━━━━━\u001b[0m\u001b[37m\u001b[0m \u001b[1m7s\u001b[0m 3ms/step\n"
     ]
    },
    {
     "name": "stderr",
     "output_type": "stream",
     "text": [
      " 21%|██        | 7/34 [01:00<03:51,  8.58s/it]"
     ]
    },
    {
     "name": "stdout",
     "output_type": "stream",
     "text": [
      "\u001b[1m1/1\u001b[0m \u001b[32m━━━━━━━━━━━━━━━━━━━━\u001b[0m\u001b[37m\u001b[0m \u001b[1m0s\u001b[0m 32ms/step\n",
      "\u001b[1m2278/2278\u001b[0m \u001b[32m━━━━━━━━━━━━━━━━━━━━\u001b[0m\u001b[37m\u001b[0m \u001b[1m8s\u001b[0m 3ms/step\n"
     ]
    },
    {
     "name": "stderr",
     "output_type": "stream",
     "text": [
      " 24%|██▎       | 8/34 [01:09<03:45,  8.68s/it]"
     ]
    },
    {
     "name": "stdout",
     "output_type": "stream",
     "text": [
      "\u001b[1m1/1\u001b[0m \u001b[32m━━━━━━━━━━━━━━━━━━━━\u001b[0m\u001b[37m\u001b[0m \u001b[1m0s\u001b[0m 41ms/step\n",
      "\u001b[1m2278/2278\u001b[0m \u001b[32m━━━━━━━━━━━━━━━━━━━━\u001b[0m\u001b[37m\u001b[0m \u001b[1m8s\u001b[0m 4ms/step\n"
     ]
    },
    {
     "name": "stderr",
     "output_type": "stream",
     "text": [
      " 26%|██▋       | 9/34 [01:18<03:40,  8.81s/it]"
     ]
    },
    {
     "name": "stdout",
     "output_type": "stream",
     "text": [
      "\u001b[1m1/1\u001b[0m \u001b[32m━━━━━━━━━━━━━━━━━━━━\u001b[0m\u001b[37m\u001b[0m \u001b[1m0s\u001b[0m 32ms/step\n",
      "\u001b[1m2278/2278\u001b[0m \u001b[32m━━━━━━━━━━━━━━━━━━━━\u001b[0m\u001b[37m\u001b[0m \u001b[1m8s\u001b[0m 4ms/step\n"
     ]
    },
    {
     "name": "stderr",
     "output_type": "stream",
     "text": [
      " 29%|██▉       | 10/34 [01:27<03:34,  8.94s/it]"
     ]
    },
    {
     "name": "stdout",
     "output_type": "stream",
     "text": [
      "\u001b[1m1/1\u001b[0m \u001b[32m━━━━━━━━━━━━━━━━━━━━\u001b[0m\u001b[37m\u001b[0m \u001b[1m0s\u001b[0m 33ms/step\n",
      "\u001b[1m2278/2278\u001b[0m \u001b[32m━━━━━━━━━━━━━━━━━━━━\u001b[0m\u001b[37m\u001b[0m \u001b[1m8s\u001b[0m 3ms/step\n"
     ]
    },
    {
     "name": "stderr",
     "output_type": "stream",
     "text": [
      " 32%|███▏      | 11/34 [01:36<03:27,  9.00s/it]"
     ]
    },
    {
     "name": "stdout",
     "output_type": "stream",
     "text": [
      "\u001b[1m1/1\u001b[0m \u001b[32m━━━━━━━━━━━━━━━━━━━━\u001b[0m\u001b[37m\u001b[0m \u001b[1m0s\u001b[0m 33ms/step\n",
      "\u001b[1m2278/2278\u001b[0m \u001b[32m━━━━━━━━━━━━━━━━━━━━\u001b[0m\u001b[37m\u001b[0m \u001b[1m8s\u001b[0m 4ms/step\n"
     ]
    },
    {
     "name": "stderr",
     "output_type": "stream",
     "text": [
      " 35%|███▌      | 12/34 [01:45<03:19,  9.08s/it]"
     ]
    },
    {
     "name": "stdout",
     "output_type": "stream",
     "text": [
      "\u001b[1m1/1\u001b[0m \u001b[32m━━━━━━━━━━━━━━━━━━━━\u001b[0m\u001b[37m\u001b[0m \u001b[1m0s\u001b[0m 33ms/step\n",
      "\u001b[1m2278/2278\u001b[0m \u001b[32m━━━━━━━━━━━━━━━━━━━━\u001b[0m\u001b[37m\u001b[0m \u001b[1m8s\u001b[0m 4ms/step\n"
     ]
    },
    {
     "name": "stderr",
     "output_type": "stream",
     "text": [
      " 38%|███▊      | 13/34 [01:55<03:11,  9.12s/it]"
     ]
    },
    {
     "name": "stdout",
     "output_type": "stream",
     "text": [
      "\u001b[1m1/1\u001b[0m \u001b[32m━━━━━━━━━━━━━━━━━━━━\u001b[0m\u001b[37m\u001b[0m \u001b[1m0s\u001b[0m 34ms/step\n",
      "\u001b[1m2278/2278\u001b[0m \u001b[32m━━━━━━━━━━━━━━━━━━━━\u001b[0m\u001b[37m\u001b[0m \u001b[1m8s\u001b[0m 4ms/step\n"
     ]
    },
    {
     "name": "stderr",
     "output_type": "stream",
     "text": [
      " 41%|████      | 14/34 [02:04<03:03,  9.18s/it]"
     ]
    },
    {
     "name": "stdout",
     "output_type": "stream",
     "text": [
      "\u001b[1m1/1\u001b[0m \u001b[32m━━━━━━━━━━━━━━━━━━━━\u001b[0m\u001b[37m\u001b[0m \u001b[1m0s\u001b[0m 35ms/step\n",
      "\u001b[1m2278/2278\u001b[0m \u001b[32m━━━━━━━━━━━━━━━━━━━━\u001b[0m\u001b[37m\u001b[0m \u001b[1m8s\u001b[0m 4ms/step\n"
     ]
    },
    {
     "name": "stderr",
     "output_type": "stream",
     "text": [
      " 44%|████▍     | 15/34 [02:13<02:54,  9.20s/it]"
     ]
    },
    {
     "name": "stdout",
     "output_type": "stream",
     "text": [
      "\u001b[1m1/1\u001b[0m \u001b[32m━━━━━━━━━━━━━━━━━━━━\u001b[0m\u001b[37m\u001b[0m \u001b[1m0s\u001b[0m 33ms/step\n",
      "\u001b[1m2278/2278\u001b[0m \u001b[32m━━━━━━━━━━━━━━━━━━━━\u001b[0m\u001b[37m\u001b[0m \u001b[1m8s\u001b[0m 3ms/step\n"
     ]
    },
    {
     "name": "stderr",
     "output_type": "stream",
     "text": [
      " 47%|████▋     | 16/34 [02:22<02:44,  9.12s/it]"
     ]
    },
    {
     "name": "stdout",
     "output_type": "stream",
     "text": [
      "\u001b[1m1/1\u001b[0m \u001b[32m━━━━━━━━━━━━━━━━━━━━\u001b[0m\u001b[37m\u001b[0m \u001b[1m0s\u001b[0m 33ms/step\n",
      "\u001b[1m2278/2278\u001b[0m \u001b[32m━━━━━━━━━━━━━━━━━━━━\u001b[0m\u001b[37m\u001b[0m \u001b[1m8s\u001b[0m 3ms/step\n"
     ]
    },
    {
     "name": "stderr",
     "output_type": "stream",
     "text": [
      " 50%|█████     | 17/34 [02:31<02:33,  9.04s/it]"
     ]
    },
    {
     "name": "stdout",
     "output_type": "stream",
     "text": [
      "\u001b[1m1/1\u001b[0m \u001b[32m━━━━━━━━━━━━━━━━━━━━\u001b[0m\u001b[37m\u001b[0m \u001b[1m0s\u001b[0m 34ms/step\n",
      "\u001b[1m2278/2278\u001b[0m \u001b[32m━━━━━━━━━━━━━━━━━━━━\u001b[0m\u001b[37m\u001b[0m \u001b[1m8s\u001b[0m 4ms/step\n"
     ]
    },
    {
     "name": "stderr",
     "output_type": "stream",
     "text": [
      " 53%|█████▎    | 18/34 [02:40<02:25,  9.10s/it]"
     ]
    },
    {
     "name": "stdout",
     "output_type": "stream",
     "text": [
      "\u001b[1m1/1\u001b[0m \u001b[32m━━━━━━━━━━━━━━━━━━━━\u001b[0m\u001b[37m\u001b[0m \u001b[1m0s\u001b[0m 34ms/step\n",
      "\u001b[1m2278/2278\u001b[0m \u001b[32m━━━━━━━━━━━━━━━━━━━━\u001b[0m\u001b[37m\u001b[0m \u001b[1m8s\u001b[0m 4ms/step\n"
     ]
    },
    {
     "name": "stderr",
     "output_type": "stream",
     "text": [
      " 56%|█████▌    | 19/34 [02:49<02:16,  9.11s/it]"
     ]
    },
    {
     "name": "stdout",
     "output_type": "stream",
     "text": [
      "\u001b[1m1/1\u001b[0m \u001b[32m━━━━━━━━━━━━━━━━━━━━\u001b[0m\u001b[37m\u001b[0m \u001b[1m0s\u001b[0m 33ms/step\n",
      "\u001b[1m2278/2278\u001b[0m \u001b[32m━━━━━━━━━━━━━━━━━━━━\u001b[0m\u001b[37m\u001b[0m \u001b[1m8s\u001b[0m 4ms/step\n"
     ]
    },
    {
     "name": "stderr",
     "output_type": "stream",
     "text": [
      " 59%|█████▉    | 20/34 [02:59<02:08,  9.19s/it]"
     ]
    },
    {
     "name": "stdout",
     "output_type": "stream",
     "text": [
      "\u001b[1m1/1\u001b[0m \u001b[32m━━━━━━━━━━━━━━━━━━━━\u001b[0m\u001b[37m\u001b[0m \u001b[1m0s\u001b[0m 34ms/step\n",
      "\u001b[1m2278/2278\u001b[0m \u001b[32m━━━━━━━━━━━━━━━━━━━━\u001b[0m\u001b[37m\u001b[0m \u001b[1m8s\u001b[0m 4ms/step\n"
     ]
    },
    {
     "name": "stderr",
     "output_type": "stream",
     "text": [
      " 62%|██████▏   | 21/34 [03:08<02:00,  9.26s/it]"
     ]
    },
    {
     "name": "stdout",
     "output_type": "stream",
     "text": [
      "\u001b[1m1/1\u001b[0m \u001b[32m━━━━━━━━━━━━━━━━━━━━\u001b[0m\u001b[37m\u001b[0m \u001b[1m0s\u001b[0m 35ms/step\n",
      "\u001b[1m2278/2278\u001b[0m \u001b[32m━━━━━━━━━━━━━━━━━━━━\u001b[0m\u001b[37m\u001b[0m \u001b[1m8s\u001b[0m 4ms/step\n"
     ]
    },
    {
     "name": "stderr",
     "output_type": "stream",
     "text": [
      " 65%|██████▍   | 22/34 [03:17<01:51,  9.32s/it]"
     ]
    },
    {
     "name": "stdout",
     "output_type": "stream",
     "text": [
      "\u001b[1m1/1\u001b[0m \u001b[32m━━━━━━━━━━━━━━━━━━━━\u001b[0m\u001b[37m\u001b[0m \u001b[1m0s\u001b[0m 33ms/step\n",
      "\u001b[1m2278/2278\u001b[0m \u001b[32m━━━━━━━━━━━━━━━━━━━━\u001b[0m\u001b[37m\u001b[0m \u001b[1m8s\u001b[0m 4ms/step\n"
     ]
    },
    {
     "name": "stderr",
     "output_type": "stream",
     "text": [
      " 68%|██████▊   | 23/34 [03:27<01:41,  9.24s/it]"
     ]
    },
    {
     "name": "stdout",
     "output_type": "stream",
     "text": [
      "\u001b[1m1/1\u001b[0m \u001b[32m━━━━━━━━━━━━━━━━━━━━\u001b[0m\u001b[37m\u001b[0m \u001b[1m0s\u001b[0m 31ms/step\n",
      "\u001b[1m2278/2278\u001b[0m \u001b[32m━━━━━━━━━━━━━━━━━━━━\u001b[0m\u001b[37m\u001b[0m \u001b[1m8s\u001b[0m 3ms/step\n"
     ]
    },
    {
     "name": "stderr",
     "output_type": "stream",
     "text": [
      " 71%|███████   | 24/34 [03:35<01:31,  9.14s/it]"
     ]
    },
    {
     "name": "stdout",
     "output_type": "stream",
     "text": [
      "\u001b[1m1/1\u001b[0m \u001b[32m━━━━━━━━━━━━━━━━━━━━\u001b[0m\u001b[37m\u001b[0m \u001b[1m0s\u001b[0m 32ms/step\n",
      "\u001b[1m2278/2278\u001b[0m \u001b[32m━━━━━━━━━━━━━━━━━━━━\u001b[0m\u001b[37m\u001b[0m \u001b[1m8s\u001b[0m 3ms/step\n"
     ]
    },
    {
     "name": "stderr",
     "output_type": "stream",
     "text": [
      " 74%|███████▎  | 25/34 [03:44<01:21,  9.07s/it]"
     ]
    },
    {
     "name": "stdout",
     "output_type": "stream",
     "text": [
      "\u001b[1m1/1\u001b[0m \u001b[32m━━━━━━━━━━━━━━━━━━━━\u001b[0m\u001b[37m\u001b[0m \u001b[1m0s\u001b[0m 32ms/step\n",
      "\u001b[1m2278/2278\u001b[0m \u001b[32m━━━━━━━━━━━━━━━━━━━━\u001b[0m\u001b[37m\u001b[0m \u001b[1m8s\u001b[0m 4ms/step\n"
     ]
    },
    {
     "name": "stderr",
     "output_type": "stream",
     "text": [
      " 76%|███████▋  | 26/34 [03:53<01:12,  9.09s/it]"
     ]
    },
    {
     "name": "stdout",
     "output_type": "stream",
     "text": [
      "\u001b[1m1/1\u001b[0m \u001b[32m━━━━━━━━━━━━━━━━━━━━\u001b[0m\u001b[37m\u001b[0m \u001b[1m0s\u001b[0m 35ms/step\n",
      "\u001b[1m2278/2278\u001b[0m \u001b[32m━━━━━━━━━━━━━━━━━━━━\u001b[0m\u001b[37m\u001b[0m \u001b[1m8s\u001b[0m 3ms/step\n"
     ]
    },
    {
     "name": "stderr",
     "output_type": "stream",
     "text": [
      " 79%|███████▉  | 27/34 [04:02<01:03,  9.03s/it]"
     ]
    },
    {
     "name": "stdout",
     "output_type": "stream",
     "text": [
      "\u001b[1m1/1\u001b[0m \u001b[32m━━━━━━━━━━━━━━━━━━━━\u001b[0m\u001b[37m\u001b[0m \u001b[1m0s\u001b[0m 32ms/step\n",
      "\u001b[1m2278/2278\u001b[0m \u001b[32m━━━━━━━━━━━━━━━━━━━━\u001b[0m\u001b[37m\u001b[0m \u001b[1m8s\u001b[0m 3ms/step\n"
     ]
    },
    {
     "name": "stderr",
     "output_type": "stream",
     "text": [
      " 82%|████████▏ | 28/34 [04:11<00:53,  8.99s/it]"
     ]
    },
    {
     "name": "stdout",
     "output_type": "stream",
     "text": [
      "\u001b[1m1/1\u001b[0m \u001b[32m━━━━━━━━━━━━━━━━━━━━\u001b[0m\u001b[37m\u001b[0m \u001b[1m0s\u001b[0m 32ms/step\n",
      "\u001b[1m2278/2278\u001b[0m \u001b[32m━━━━━━━━━━━━━━━━━━━━\u001b[0m\u001b[37m\u001b[0m \u001b[1m8s\u001b[0m 3ms/step\n"
     ]
    },
    {
     "name": "stderr",
     "output_type": "stream",
     "text": [
      " 85%|████████▌ | 29/34 [04:20<00:45,  9.00s/it]"
     ]
    },
    {
     "name": "stdout",
     "output_type": "stream",
     "text": [
      "\u001b[1m1/1\u001b[0m \u001b[32m━━━━━━━━━━━━━━━━━━━━\u001b[0m\u001b[37m\u001b[0m \u001b[1m0s\u001b[0m 33ms/step\n",
      "\u001b[1m2278/2278\u001b[0m \u001b[32m━━━━━━━━━━━━━━━━━━━━\u001b[0m\u001b[37m\u001b[0m \u001b[1m8s\u001b[0m 3ms/step\n"
     ]
    },
    {
     "name": "stderr",
     "output_type": "stream",
     "text": [
      " 88%|████████▊ | 30/34 [04:29<00:35,  8.97s/it]"
     ]
    },
    {
     "name": "stdout",
     "output_type": "stream",
     "text": [
      "\u001b[1m1/1\u001b[0m \u001b[32m━━━━━━━━━━━━━━━━━━━━\u001b[0m\u001b[37m\u001b[0m \u001b[1m0s\u001b[0m 31ms/step\n",
      "\u001b[1m2278/2278\u001b[0m \u001b[32m━━━━━━━━━━━━━━━━━━━━\u001b[0m\u001b[37m\u001b[0m \u001b[1m8s\u001b[0m 3ms/step\n"
     ]
    },
    {
     "name": "stderr",
     "output_type": "stream",
     "text": [
      " 91%|█████████ | 31/34 [04:38<00:26,  8.95s/it]"
     ]
    },
    {
     "name": "stdout",
     "output_type": "stream",
     "text": [
      "\u001b[1m1/1\u001b[0m \u001b[32m━━━━━━━━━━━━━━━━━━━━\u001b[0m\u001b[37m\u001b[0m \u001b[1m0s\u001b[0m 32ms/step\n",
      "\u001b[1m2278/2278\u001b[0m \u001b[32m━━━━━━━━━━━━━━━━━━━━\u001b[0m\u001b[37m\u001b[0m \u001b[1m8s\u001b[0m 3ms/step\n"
     ]
    },
    {
     "name": "stderr",
     "output_type": "stream",
     "text": [
      " 94%|█████████▍| 32/34 [04:47<00:17,  8.94s/it]"
     ]
    },
    {
     "name": "stdout",
     "output_type": "stream",
     "text": [
      "\u001b[1m1/1\u001b[0m \u001b[32m━━━━━━━━━━━━━━━━━━━━\u001b[0m\u001b[37m\u001b[0m \u001b[1m0s\u001b[0m 31ms/step\n",
      "\u001b[1m2278/2278\u001b[0m \u001b[32m━━━━━━━━━━━━━━━━━━━━\u001b[0m\u001b[37m\u001b[0m \u001b[1m8s\u001b[0m 3ms/step\n"
     ]
    },
    {
     "name": "stderr",
     "output_type": "stream",
     "text": [
      " 97%|█████████▋| 33/34 [04:56<00:08,  8.94s/it]"
     ]
    },
    {
     "name": "stdout",
     "output_type": "stream",
     "text": [
      "\u001b[1m1/1\u001b[0m \u001b[32m━━━━━━━━━━━━━━━━━━━━\u001b[0m\u001b[37m\u001b[0m \u001b[1m0s\u001b[0m 31ms/step\n",
      "\u001b[1m2278/2278\u001b[0m \u001b[32m━━━━━━━━━━━━━━━━━━━━\u001b[0m\u001b[37m\u001b[0m \u001b[1m8s\u001b[0m 3ms/step\n"
     ]
    },
    {
     "name": "stderr",
     "output_type": "stream",
     "text": [
      "100%|██████████| 34/34 [05:05<00:00,  8.98s/it]\n"
     ]
    }
   ],
   "source": [
    "shap_values = explainer.shap_values(x_val[:34])"
   ]
  },
  {
   "cell_type": "code",
   "execution_count": 39,
   "metadata": {},
   "outputs": [
    {
     "data": {
      "text/plain": [
       "(34, 65, 10)"
      ]
     },
     "execution_count": 39,
     "metadata": {},
     "output_type": "execute_result"
    }
   ],
   "source": [
    "shap_values.shape"
   ]
  },
  {
   "cell_type": "code",
   "execution_count": 40,
   "metadata": {},
   "outputs": [
    {
     "data": {
      "image/png": "[encoded data removed]",
      "text/plain": [
       "<Figure size 800x950 with 1 Axes>"
      ]
     },
     "metadata": {},
     "output_type": "display_data"
    }
   ],
   "source": [
    "shap.summary_plot(shap_values[:,:,1], plot_type = 'bar',feature_names=features_diagnosticos+features_procedimientos)"
   ]
  },
  {
   "cell_type": "code",
   "execution_count": 41,
   "metadata": {},
   "outputs": [
    {
     "data": {
      "text/html": [
       "<div>\n",
       "<style scoped>\n",
       "    .dataframe tbody tr th:only-of-type {\n",
       "        vertical-align: middle;\n",
       "    }\n",
       "\n",
       "    .dataframe tbody tr th {\n",
       "        vertical-align: top;\n",
       "    }\n",
       "\n",
       "    .dataframe thead th {\n",
       "        text-align: right;\n",
       "    }\n",
       "</style>\n",
       "<table border=\"1\" class=\"dataframe\">\n",
       "  <thead>\n",
       "    <tr style=\"text-align: right;\">\n",
       "      <th></th>\n",
       "      <th>Diag01</th>\n",
       "      <th>Diag02</th>\n",
       "      <th>Diag03</th>\n",
       "      <th>Diag04</th>\n",
       "      <th>Diag05</th>\n",
       "      <th>Diag06</th>\n",
       "    </tr>\n",
       "  </thead>\n",
       "  <tbody>\n",
       "    <tr>\n",
       "      <th>922</th>\n",
       "      <td>213</td>\n",
       "      <td>51</td>\n",
       "      <td>22</td>\n",
       "      <td>22</td>\n",
       "      <td>22</td>\n",
       "      <td>22</td>\n",
       "    </tr>\n",
       "  </tbody>\n",
       "</table>\n",
       "</div>"
      ],
      "text/plain": [
       "     Diag01  Diag02  Diag03  Diag04  Diag05  Diag06\n",
       "922     213      51      22      22      22      22"
      ]
     },
     "execution_count": 41,
     "metadata": {},
     "output_type": "execute_result"
    }
   ],
   "source": [
    "test[(test[\"y\"]==1) & (test[\"yp\"]==2)][[\"Diag01\",\"Diag02\",\"Diag03\",\"Diag04\",\"Diag05\",\"Diag06\"]]"
   ]
  },
  {
   "cell_type": "code",
   "execution_count": 42,
   "metadata": {},
   "outputs": [],
   "source": [
    "filtro1=test[(test[\"y\"]==1)]"
   ]
  },
  {
   "cell_type": "code",
   "execution_count": 43,
   "metadata": {},
   "outputs": [
    {
     "data": {
      "text/plain": [
       "array([7.7961558e-06, 2.9807503e-05, 1.2235862e-06, 9.4674397e-05,\n",
       "       2.2774921e-05, 2.9178988e-03, 9.9263543e-01, 1.9328389e-04,\n",
       "       2.9806523e-03, 1.1166018e-03], dtype=float32)"
      ]
     },
     "execution_count": 43,
     "metadata": {},
     "output_type": "execute_result"
    }
   ],
   "source": [
    "y_pred_probs[33]"
   ]
  },
  {
   "cell_type": "code",
   "execution_count": 44,
   "metadata": {},
   "outputs": [
    {
     "data": {
      "image/png": "[encoded data removed]",
      "text/plain": [
       "<Figure size 800x650 with 3 Axes>"
      ]
     },
     "metadata": {},
     "output_type": "display_data"
    }
   ],
   "source": [
    "shap.plots._waterfall.waterfall_legacy(explainer.expected_value[1], shap_values[33,:,2], feature_names = features_diagnosticos+features_procedimientos)"
   ]
  },
  {
   "cell_type": "code",
   "execution_count": 45,
   "metadata": {},
   "outputs": [
    {
     "data": {
      "text/plain": [
       "'E66.9'"
      ]
     },
     "execution_count": 45,
     "metadata": {},
     "output_type": "execute_result"
    }
   ],
   "source": [
    "token_diagnosticos[50]"
   ]
  },
  {
   "cell_type": "code",
   "execution_count": 46,
   "metadata": {},
   "outputs": [
    {
     "data": {
      "text/plain": [
       "Diag01\n",
       "213    58\n",
       "171    13\n",
       "326     9\n",
       "331     2\n",
       "Name: count, dtype: int64"
      ]
     },
     "execution_count": 46,
     "metadata": {},
     "output_type": "execute_result"
    }
   ],
   "source": [
    "filtro1[\"Diag01\"].value_counts()"
   ]
  },
  {
   "cell_type": "code",
   "execution_count": 47,
   "metadata": {},
   "outputs": [
    {
     "data": {
      "text/plain": [
       "GRD\n",
       "06120    42\n",
       "07114     1\n",
       "Name: count, dtype: int64"
      ]
     },
     "execution_count": 47,
     "metadata": {},
     "output_type": "execute_result"
    }
   ],
   "source": [
    "data.query(\"Diag01=='E66.9'\")[\"GRD\"].value_counts()"
   ]
  }
 ],
 "metadata": {
  "kernelspec": {
   "display_name": "Python 3",
   "language": "python",
   "name": "python3"
  },
  "language_info": {
   "codemirror_mode": {
    "name": "ipython",
    "version": 3
   },
   "file_extension": ".py",
   "mimetype": "text/x-python",
   "name": "python",
   "nbconvert_exporter": "python",
   "pygments_lexer": "ipython3",
   "version": "3.10.11"
  }
 },
 "nbformat": 4,
 "nbformat_minor": 2
}
